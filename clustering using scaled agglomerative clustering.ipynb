{
 "cells": [
  {
   "cell_type": "code",
   "execution_count": 148,
   "metadata": {},
   "outputs": [],
   "source": [
    "import pandas as pd\n",
    "import numpy as np\n",
    "from sklearn.cluster import KMeans, Birch\n",
    "from sklearn.mixture import GaussianMixture\n",
    "from sklearn.metrics import silhouette_score\n",
    "from sklearn.decomposition import PCA\n",
    "import matplotlib.pyplot as plt\n",
    "from sklearn.preprocessing import MultiLabelBinarizer\n",
    "from sklearn.cluster import SpectralClustering\n",
    "from sklearn.metrics import silhouette_score\n",
    "from sklearn.preprocessing import StandardScaler"
   ]
  },
  {
   "cell_type": "code",
   "execution_count": 149,
   "metadata": {},
   "outputs": [],
   "source": [
    "df=pd.read_csv('D:/Objective 1 code/classification/crop_queryTypes.csv')"
   ]
  },
  {
   "cell_type": "code",
   "execution_count": 150,
   "metadata": {},
   "outputs": [],
   "source": [
    "# Split the Crop_QueryType column into a list of values\n",
    "df['Crop_QueryType_List'] = df['Crop_QueryType'].str.split(',')\n"
   ]
  },
  {
   "cell_type": "code",
   "execution_count": 151,
   "metadata": {},
   "outputs": [],
   "source": [
    "# Step 2: Create a feature matrix using MultiLabelBinarizer\n",
    "mlb = MultiLabelBinarizer()\n",
    "crop_querytype_matrix = mlb.fit_transform(df['Crop_QueryType_List'])\n",
    "\n",
    "# Convert the matrix to a DataFrame for better readability\n",
    "crop_querytype_df = pd.DataFrame(crop_querytype_matrix, columns=mlb.classes_)\n",
    "\n",
    "# Add Month and Place to the feature matrix\n",
    "crop_querytype_df['Month'] = df['Month']\n",
    "crop_querytype_df['Place'] = df['Place']"
   ]
  },
  {
   "cell_type": "code",
   "execution_count": 152,
   "metadata": {},
   "outputs": [],
   "source": [
    "# Step 3: Split Place into State and District\n",
    "crop_querytype_df['State'] = crop_querytype_df['Place'].str.split('_').str[0]\n",
    "crop_querytype_df['District'] = crop_querytype_df['Place'].str.split('_').str[1]"
   ]
  },
  {
   "cell_type": "code",
   "execution_count": 153,
   "metadata": {},
   "outputs": [],
   "source": [
    "# Step 4: Normalize embeddings for Place and Month with respect to mode\n",
    "# Group by Place and calculate the mode of Month\n",
    "mode_month_per_place = crop_querytype_df.groupby('Place')['Month'].agg(lambda x: x.mode()[0]).reset_index()\n",
    "mode_month_per_place.rename(columns={'Month': 'Mode_Month'}, inplace=True)\n",
    "\n",
    "# Merge mode_month_per_place with the main DataFrame\n",
    "crop_querytype_df = pd.merge(crop_querytype_df, mode_month_per_place, on='Place')\n",
    "\n",
    "# Normalize embeddings (standardize features)\n",
    "scaler = StandardScaler()\n",
    "crop_querytype_df_normalized = scaler.fit_transform(crop_querytype_df[mlb.classes_])"
   ]
  },
  {
   "cell_type": "code",
   "execution_count": 191,
   "metadata": {},
   "outputs": [],
   "source": [
    "# Step 5: Cluster states based on embeddings\n",
    "# Group by State and aggregate the normalized embeddings\n",
    "state_embeddings = crop_querytype_df.groupby('State')[mlb.classes_].mean()\n",
    "\n",
    "scaler = StandardScaler()\n",
    "X_scaled = scaler.fit_transform(state_embeddings)\n",
    "\n",
    "# Step 5: Apply Spectral Clustering\n",
    "# Choose the number of clusters (e.g., 5)\n",
    "n_clusters = 6\n",
    "\n",
    "from sklearn.cluster import AgglomerativeClustering\n",
    "\n",
    "# Assuming n_clusters is defined and X_scaled is your scaled data\n",
    "agglo = AgglomerativeClustering(n_clusters=n_clusters)\n",
    "\n",
    "\n",
    "state_clusters =agglo.fit_predict(X_scaled)\n",
    "\n",
    "# Add state clusters to the state_embeddings DataFrame\n",
    "state_embeddings['State_Cluster'] = state_clusters"
   ]
  },
  {
   "cell_type": "code",
   "execution_count": 192,
   "metadata": {},
   "outputs": [
    {
     "name": "stdout",
     "output_type": "stream",
     "text": [
      "{'A AND N ISLANDS': ['State_Cluster', 'Jasmine_Cultural Practices', ' Paddy Dhan_Nutrient Management', 'Sugarcane Noble Cane_Plant Protection', ' Barley Jau_Weather'], 'ANDHRA PRADESH': [' Brinjal_Plant Protection', ' Paddy Dhan_Plant Protection', ' Chillies_Plant Protection', ' BhindiOkraLadysfinger_Plant Protection', ' Paddy Dhan_Weather'], 'ARUNACHAL PRADESH': ['State_Cluster', 'Chillies_Plant Protection', ' Fresh Water_Tank Pond and Reservoir Management', 'Fresh Water_Tank Pond and Reservoir Management', ' Brinjal_Plant Protection'], 'ASSAM': ['State_Cluster', ' Fresh Water_Tank Pond and Reservoir Management', ' Chillies_Plant Protection', ' Paddy Dhan_Plant Protection', ' BovineCowBuffalo_Disease Management'], 'BIHAR': [' Brinjal_Plant Protection', ' Mango_Plant Protection', ' BovineCowBuffalo_Disease Management', ' BhindiOkraLadysfinger_Plant Protection', ' Bottle Gourd _Plant Protection'], 'CHHATTISGARH': ['State_Cluster', ' Paddy Dhan_Plant Protection', ' Brinjal_Plant Protection', ' Tomato_Plant Protection', ' Chillies_Plant Protection'], 'DAMAN AND DIU': ['State_Cluster', 'Watermelon_Plant Protection', ' Watermelon_Plant Protection', ' Chillies_Cultural Practices', ' Watermelon_Fertilizer Use and Availability'], 'DELHI': [' Wheat_Weather', ' Bottle Gourd _Plant Protection', ' Mango_Plant Protection', ' Brinjal_Plant Protection', ' Tomato_Plant Protection'], 'GUJARAT': [' Chillies_Plant Protection', ' Brinjal_Plant Protection', ' Cotton Kapas_Plant Protection', ' Mango_Plant Protection', ' BhindiOkraLadysfinger_Plant Protection'], 'HARYANA': ['State_Cluster', ' Wheat_Weather', ' Tomato_Plant Protection', ' Bottle Gourd _Plant Protection', ' Guava_Plant Protection'], 'HIMACHAL PRADESH': [' Apple_Plant Protection', ' Apple_Cultural Practices', ' Tomato_Plant Protection', ' Cauliflower_Plant Protection', ' Pea Vegetable_Plant Protection'], 'JAMMU AND KASHMIR': ['State_Cluster', ' Apple_Plant Protection', ' Apple_Weather', ' Apple_Cultural Practices', ' Chillies_Plant Protection'], 'JHARKAND': ['State_Cluster', ' Tomato_Plant Protection', ' Brinjal_Plant Protection', ' Chillies_Plant Protection', ' Mango_Plant Protection'], 'KARNATAKA': [' Chillies_Plant Protection', ' Tomato_Plant Protection', ' Banana_Plant Protection', ' Coconut_Plant Protection', ' Brinjal_Plant Protection'], 'KERALA': ['State_Cluster', ' Coconut_Plant Protection', ' Banana_Plant Protection', ' Coconut_Nutrient Management', ' Banana_Nutrient Management'], 'MADHYA PRADESH': [' Tomato_Plant Protection', ' Brinjal_Plant Protection', ' Chillies_Plant Protection', ' Onion_Plant Protection', ' Wheat_Weather'], 'MAHARASHTRA': ['State_Cluster', ' Brinjal_Plant Protection', ' Chillies_Plant Protection', ' BhindiOkraLadysfinger_Plant Protection', ' Tomato_Plant Protection'], 'MANIPUR': ['State_Cluster', ' Paddy Dhan_Plant Protection', ' Paddy Dhan_Cultural Practices', ' POULTRY  FARM _Disease Management', ' BovineCowBuffalo_Disease Management'], 'MEGHALAYA': ['State_Cluster', ' Paddy Dhan_Plant Protection', 'Paddy Dhan_Plant Protection', ' Paddy Dhan_Weather', ' Ginger_Plant Protection'], 'MIZORAM': ['State_Cluster', ' Barley Jau_Seeds', ' Potato_Plant Protection', ' Wheat_Power Roads etc', ' Barley Jau_Credit'], 'NAGALAND': ['State_Cluster', ' Barley Jau_Seeds', ' Paddy Dhan_Seeds', ' Fresh Water_Tank Pond and Reservoir Management', 'Paddy Dhan_Weather'], 'ODISHA': [' Brinjal_Plant Protection', ' Paddy Dhan_Plant Protection', ' Chillies_Plant Protection', ' Bitter Gourd_Plant Protection', ' BhindiOkraLadysfinger_Plant Protection'], 'PUDUCHERRY': ['State_Cluster', ' Paddy Dhan_Nutrient Management', ' Paddy Dhan_Plant Protection', ' Paddy Dhan_Fertilizer Use and Availability', ' Paddy Dhan_Weather'], 'PUNJAB': [' Paddy Dhan_Weather', ' Wheat_Weather', ' Citrus_Plant Protection', ' Paddy Dhan_Varieties', ' Paddy Dhan_Plant Protection'], 'RAJASTHAN': ['State_Cluster', ' Chillies_Plant Protection', ' Citrus_Plant Protection', ' Lemon_Plant Protection', ' Wheat_Weather'], 'SIKKIM': ['State_Cluster', ' Tomato_Plant Protection', ' Ginger_Plant Protection', ' Cabbage_Plant Protection', ' BovineCowBuffalo_Disease Management'], 'TAMILNADU': ['State_Cluster', ' Paddy Dhan_Plant Protection', ' Paddy Dhan_Nutrient Management', ' Brinjal_Plant Protection', ' Paddy Dhan_Fertilizer Use and Availability'], 'TELANGANA': ['State_Cluster', ' Paddy Dhan_Plant Protection', ' Chillies_Plant Protection', ' Paddy Dhan_Nutrient Management', ' Paddy Dhan_Fertilizer Use and Availability'], 'TRIPURA': ['State_Cluster', ' Brinjal_Plant Protection', ' Chillies_Plant Protection', ' Paddy Dhan_Plant Protection', ' Fresh Water_Tank Pond and Reservoir Management'], 'UTTAR PRADESH': ['State_Cluster', ' Mango_Plant Protection', ' Wheat_Weather', ' Chillies_Plant Protection', ' Brinjal_Plant Protection'], 'UTTARAKHAND': ['State_Cluster', ' Tomato_Plant Protection', ' Wheat_Weather', ' BovineCowBuffalo_Disease Management', ' Paddy Dhan_Weather'], 'WEST BENGAL': [' Brinjal_Plant Protection', ' Chillies_Plant Protection', ' Paddy Dhan_Weather', ' Paddy Dhan_Plant Protection', ' Cucumber_Plant Protection']}\n"
     ]
    }
   ],
   "source": [
    "# Step 6: Find top 5 Crop_QueryTypes for each state\n",
    "def get_top_crop_querytypes_per_state(state_embeddings, top_n=5):\n",
    "    top_crop_querytypes = {}\n",
    "    for state in state_embeddings.index:\n",
    "        top_crops = state_embeddings.loc[state].sort_values(ascending=False).head(top_n).index.tolist()\n",
    "        top_crop_querytypes[state] = top_crops\n",
    "    return top_crop_querytypes\n",
    "\n",
    "top_crop_querytypes_per_state = get_top_crop_querytypes_per_state(state_embeddings)\n",
    "print(top_crop_querytypes_per_state)\n"
   ]
  },
  {
   "cell_type": "code",
   "execution_count": 193,
   "metadata": {},
   "outputs": [
    {
     "name": "stdout",
     "output_type": "stream",
     
    }
   ],
   "source": [
    "# Step 7: Find top 10 Crop_QueryTypes for each state cluster\n",
    "def get_top_crop_querytypes_per_cluster(state_embeddings, top_n=10):\n",
    "    top_crop_querytypes = {}\n",
    "    for cluster in state_embeddings['State_Cluster'].unique():\n",
    "        cluster_subset = state_embeddings[state_embeddings['State_Cluster'] == cluster]\n",
    "        top_crops = cluster_subset.drop(columns='State_Cluster').mean().sort_values(ascending=False).head(top_n).index.tolist()\n",
    "        top_crop_querytypes[cluster] = top_crops\n",
    "    return top_crop_querytypes\n",
    "\n",
    "top_crop_querytypes_per_cluster = get_top_crop_querytypes_per_cluster(state_embeddings)\n",
    "print(top_crop_querytypes_per_cluster)"
   ]
  },
  {
   "cell_type": "code",
   "execution_count": 194,
   "metadata": {},
   "outputs": [
    {
     "name": "stderr",
     "output_type": "stream",
     "text": [
      "<>:2: SyntaxWarning: invalid escape sequence '\\O'\n",
      "<>:6: SyntaxWarning: invalid escape sequence '\\O'\n",
      "<>:2: SyntaxWarning: invalid escape sequence '\\O'\n",
      "<>:6: SyntaxWarning: invalid escape sequence '\\O'\n",
      "C:\\Users\\Admin\\AppData\\Local\\Temp\\ipykernel_16936\\1346104313.py:2: SyntaxWarning: invalid escape sequence '\\O'\n",
      "  top_crop_querytypes_per_state_df.to_csv('D:\\Objective 1 code\\clusteringtop_crop_querytypes_per_state.csv', index=False)\n",
      "C:\\Users\\Admin\\AppData\\Local\\Temp\\ipykernel_16936\\1346104313.py:6: SyntaxWarning: invalid escape sequence '\\O'\n",
      "  top_crop_querytypes_per_cluster_df.to_csv('D:\\Objective 1 code\\clusteringtop_crop_querytypes_per_cluster.csv', index=False)\n"
     ]
    }
   ],
   "source": [
    "top_crop_querytypes_per_state_df = pd.DataFrame(list(top_crop_querytypes_per_state.items()), columns=['State', 'Top_5_Crop_QueryTypes'])\n",
    "top_crop_querytypes_per_state_df.to_csv('D:\\Objective 1 code\\clusteringtop_crop_querytypes_per_state.csv', index=False)\n",
    "\n",
    "# Save top 10 Crop_QueryTypes per cluster\n",
    "top_crop_querytypes_per_cluster_df = pd.DataFrame(list(top_crop_querytypes_per_cluster.items()), columns=['State_Cluster', 'Top_10_Crop_QueryTypes'])\n",
    "top_crop_querytypes_per_cluster_df.to_csv('D:\\Objective 1 code\\clusteringtop_crop_querytypes_per_cluster.csv', index=False)\n"
   ]
  },
  {
   "cell_type": "code",
   "execution_count": 201,
   "metadata": {},
   "outputs": [
    {
     "name": "stdout",
     "output_type": "stream",
     
    },
    {
     "name": "stderr",
     "output_type": "stream",
     "text": [
      "<>:13: SyntaxWarning: invalid escape sequence '\\O'\n",
      "<>:13: SyntaxWarning: invalid escape sequence '\\O'\n",
      "C:\\Users\\Admin\\AppData\\Local\\Temp\\ipykernel_16936\\2102215597.py:13: SyntaxWarning: invalid escape sequence '\\O'\n",
      "  place_clusters.to_csv('D:\\Objective 1 code\\place_clusters.csv', index=False)\n"
     ]
    }
   ],
   "source": [
    "# Add state clusters to the state_embeddings DataFrame\n",
    "state_embeddings['State_Cluster'] = state_clusters\n",
    "\n",
    "# Step 6: Assign each place to its corresponding state cluster\n",
    "# Create a mapping of State to State_Cluster\n",
    "state_to_cluster = state_embeddings['State_Cluster'].to_dict()\n",
    "\n",
    "# Add State_Cluster to the main DataFrame\n",
    "crop_querytype_df['State_Cluster'] = crop_querytype_df['State'].map(state_to_cluster)\n",
    "\n",
    "# Step 7: Save the place-cluster mapping to a CSV file\n",
    "place_clusters = crop_querytype_df[['Place', 'State_Cluster']].drop_duplicates()\n",
    "place_clusters.to_csv('D:\\Objective 1 code\\place_clusters.csv', index=False)\n",
    "print(place_clusters)\n"
   ]
  },
  {
   "cell_type": "code",
   "execution_count": 198,
   "metadata": {},
   "outputs": [
    {
     "name": "stdout",
     "output_type": "stream",
     
    }
   ],
   "source": [
    "from sklearn.metrics import silhouette_score, calinski_harabasz_score, davies_bouldin_score\n",
    "\n",
    "# Step 1: Extract features and cluster labels\n",
    "X = place_features  # Feature matrix (without Place and Month)\n",
    "labels = place_month_features['Cluster']  # Cluster labels\n",
    "\n",
    "# Step 2: Calculate evaluation metrics\n",
    "# Silhouette Score\n",
    "silhouette_avg = silhouette_score(X, labels)\n",
    "print(f\"Silhouette Score: {silhouette_avg}\")\n",
    "\n",
    "# Calinski-Harabasz Index\n",
    "calinski_harabasz = calinski_harabasz_score(X, labels)\n",
    "print(f\"Calinski-Harabasz Index: {calinski_harabasz}\")\n",
    "\n",
    "# Davies-Bouldin Index\n",
    "davies_bouldin = davies_bouldin_score(X, labels)\n",
    "print(f\"Davies-Bouldin Index: {davies_bouldin}\")\n",
    "\n"
   ]
  },
  {
   "cell_type": "code",
   "execution_count": 199,
   "metadata": {},
   "outputs": [
    {
  
      ]
     },
     "metadata": {},
     "output_type": "display_data"
    },
    {
     "name": "stdout",
     "output_type": "stream",
     "text": [
      "Optimal number of clusters: 6\n"
     ]
    }
   ],
   "source": [
    "from kneed import KneeLocator \n",
    "wcss = []\n",
    "n_clusters_range = range(2, 15)\n",
    "\n",
    "for n in n_clusters_range:\n",
    "    # Fit AgglomerativeClustering\n",
    "    agglo = AgglomerativeClustering(n_clusters=n)\n",
    "    agglo.fit(X_scaled)\n",
    "    \n",
    "    # Calculate WCSS manually\n",
    "    cluster_labels = agglo.labels_  # Get cluster labels for each data point\n",
    "    wcss_n = 0  # Initialize WCSS for this number of clusters\n",
    "    \n",
    "    # Compute the sum of squared distances for each cluster\n",
    "    for i in range(n):\n",
    "        cluster_points = X_scaled[cluster_labels == i]  # Points in the cluster\n",
    "        cluster_center = np.mean(cluster_points, axis=0)  # Cluster centroid\n",
    "        wcss_n += np.sum((cluster_points - cluster_center) ** 2)  # Sum of squared distances\n",
    "    \n",
    "    wcss.append(wcss_n) # Inertia is the WCSS\n",
    "\n",
    "plt.plot(n_clusters_range, wcss, marker='o')\n",
    "plt.xlabel('Number of Clusters')\n",
    "plt.ylabel('WCSS')\n",
    "plt.title('Elbow Method')\n",
    "plt.show()\n",
    "# Automatically find the elbow point using the KneeLocator\n",
    "knee = KneeLocator(n_clusters_range, wcss, curve='convex', direction='decreasing')\n",
    "optimal_clusters = knee.elbow\n",
    "\n",
    "print(f\"Optimal number of clusters: {optimal_clusters}\")"
   ]
  },
  {
   "cell_type": "code",
   "execution_count": null,
   "metadata": {},
   "outputs": [],
   "source": []
  }
 ],
 "metadata": {
  "kernelspec": {
   "display_name": "base",
   "language": "python",
   "name": "python3"
  },
  "language_info": {
   "codemirror_mode": {
    "name": "ipython",
    "version": 3
   },
   "file_extension": ".py",
   "mimetype": "text/x-python",
   "name": "python",
   "nbconvert_exporter": "python",
   "pygments_lexer": "ipython3",
   "version": "3.12.4"
  }
 },
 "nbformat": 4,
 "nbformat_minor": 2
}
